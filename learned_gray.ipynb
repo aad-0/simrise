{
 "cells": [
  {
   "cell_type": "code",
   "execution_count": 45,
   "id": "38eea154",
   "metadata": {},
   "outputs": [],
   "source": [
    "import keras\n",
    "from keras.models import Sequential\n",
    "from keras.layers import Dense, Dropout, Flatten\n",
    "from keras.layers import Conv2D, MaxPooling2D\n",
    "#from keras_preprocessing import image\n",
    "#import keras_preprocessing.image\n",
    "from tensorflow.keras.utils import load_img, img_to_array\n",
    "import numpy as np\n",
    "import pandas as pd\n",
    "import matplotlib.pyplot as plt\n",
    "from sklearn.model_selection import train_test_split\n",
    "from keras.layers import BatchNormalization\n",
    "#import cv2 as cv"
   ]
  },
  {
   "cell_type": "code",
   "execution_count": 46,
   "id": "7e493703",
   "metadata": {},
   "outputs": [],
   "source": [
    "import os\n",
    "PATH = \"B:\\\\somestuff\\\\simrise\\\\blalba\\\\new_tool\\\\images\\\\\"\n",
    "PATHPOOL = \"B:\\\\somestuff\\\\simrise\\\\blalba\\\\new_tool\\\\images\\\\pool_gray\\\\\"\n",
    "FILESPOOL = next(os.walk(PATHPOOL),(None,None,[]))[2]\n",
    "os.chdir(PATH)\n",
    "SIZE = 200"
   ]
  },
  {
   "cell_type": "code",
   "execution_count": 47,
   "id": "3d2937db",
   "metadata": {
    "scrolled": false
   },
   "outputs": [
    {
     "data": {
      "text/html": [
       "<div>\n",
       "<style scoped>\n",
       "    .dataframe tbody tr th:only-of-type {\n",
       "        vertical-align: middle;\n",
       "    }\n",
       "\n",
       "    .dataframe tbody tr th {\n",
       "        vertical-align: top;\n",
       "    }\n",
       "\n",
       "    .dataframe thead th {\n",
       "        text-align: right;\n",
       "    }\n",
       "</style>\n",
       "<table border=\"1\" class=\"dataframe\">\n",
       "  <thead>\n",
       "    <tr style=\"text-align: right;\">\n",
       "      <th></th>\n",
       "      <th>Id</th>\n",
       "      <th>Bypass Diode</th>\n",
       "      <th>Junction Box</th>\n",
       "      <th>MHotspot</th>\n",
       "      <th>SHotspot</th>\n",
       "    </tr>\n",
       "  </thead>\n",
       "  <tbody>\n",
       "    <tr>\n",
       "      <th>0</th>\n",
       "      <td>rgb1_gray_IMGT0037.PNG</td>\n",
       "      <td>0</td>\n",
       "      <td>0</td>\n",
       "      <td>0</td>\n",
       "      <td>0</td>\n",
       "    </tr>\n",
       "    <tr>\n",
       "      <th>1</th>\n",
       "      <td>rgb1_gray_IMGT0039.PNG</td>\n",
       "      <td>0</td>\n",
       "      <td>0</td>\n",
       "      <td>0</td>\n",
       "      <td>0</td>\n",
       "    </tr>\n",
       "    <tr>\n",
       "      <th>2</th>\n",
       "      <td>rgb1_gray_IMGT0068.PNG</td>\n",
       "      <td>0</td>\n",
       "      <td>0</td>\n",
       "      <td>0</td>\n",
       "      <td>0</td>\n",
       "    </tr>\n",
       "    <tr>\n",
       "      <th>3</th>\n",
       "      <td>rgb1_gray_IMGT0070.PNG</td>\n",
       "      <td>0</td>\n",
       "      <td>0</td>\n",
       "      <td>0</td>\n",
       "      <td>0</td>\n",
       "    </tr>\n",
       "    <tr>\n",
       "      <th>4</th>\n",
       "      <td>rgb1_gray_IMGT0072.PNG</td>\n",
       "      <td>0</td>\n",
       "      <td>0</td>\n",
       "      <td>0</td>\n",
       "      <td>0</td>\n",
       "    </tr>\n",
       "  </tbody>\n",
       "</table>\n",
       "</div>"
      ],
      "text/plain": [
       "                       Id  Bypass Diode  Junction Box  MHotspot  SHotspot\n",
       "0  rgb1_gray_IMGT0037.PNG             0             0         0         0\n",
       "1  rgb1_gray_IMGT0039.PNG             0             0         0         0\n",
       "2  rgb1_gray_IMGT0068.PNG             0             0         0         0\n",
       "3  rgb1_gray_IMGT0070.PNG             0             0         0         0\n",
       "4  rgb1_gray_IMGT0072.PNG             0             0         0         0"
      ]
     },
     "execution_count": 47,
     "metadata": {},
     "output_type": "execute_result"
    }
   ],
   "source": [
    "dataframe = pd.read_csv(f\"{PATH}\\\\out_gray.csv\")\n",
    "#dataframe = dataframe.applymap(str)\n",
    "dataframe.head(5)"
   ]
  },
  {
   "cell_type": "code",
   "execution_count": 48,
   "id": "861328f2",
   "metadata": {},
   "outputs": [
    {
     "data": {
      "text/plain": [
       "(1004, 5)"
      ]
     },
     "execution_count": 48,
     "metadata": {},
     "output_type": "execute_result"
    }
   ],
   "source": [
    "dataframe.shape\n"
   ]
  },
  {
   "cell_type": "code",
   "execution_count": 49,
   "id": "339aa78c",
   "metadata": {},
   "outputs": [
    {
     "data": {
      "text/html": [
       "<div>\n",
       "<style scoped>\n",
       "    .dataframe tbody tr th:only-of-type {\n",
       "        vertical-align: middle;\n",
       "    }\n",
       "\n",
       "    .dataframe tbody tr th {\n",
       "        vertical-align: top;\n",
       "    }\n",
       "\n",
       "    .dataframe thead th {\n",
       "        text-align: right;\n",
       "    }\n",
       "</style>\n",
       "<table border=\"1\" class=\"dataframe\">\n",
       "  <thead>\n",
       "    <tr style=\"text-align: right;\">\n",
       "      <th></th>\n",
       "      <th>Id</th>\n",
       "      <th>Bypass Diode</th>\n",
       "      <th>Junction Box</th>\n",
       "      <th>MHotspot</th>\n",
       "      <th>SHotspot</th>\n",
       "    </tr>\n",
       "  </thead>\n",
       "  <tbody>\n",
       "    <tr>\n",
       "      <th>0</th>\n",
       "      <td>rgb1_gray_IMGT0037.PNG</td>\n",
       "      <td>0</td>\n",
       "      <td>0</td>\n",
       "      <td>0</td>\n",
       "      <td>0</td>\n",
       "    </tr>\n",
       "    <tr>\n",
       "      <th>1</th>\n",
       "      <td>rgb1_gray_IMGT0039.PNG</td>\n",
       "      <td>0</td>\n",
       "      <td>0</td>\n",
       "      <td>0</td>\n",
       "      <td>0</td>\n",
       "    </tr>\n",
       "    <tr>\n",
       "      <th>2</th>\n",
       "      <td>rgb1_gray_IMGT0068.PNG</td>\n",
       "      <td>0</td>\n",
       "      <td>0</td>\n",
       "      <td>0</td>\n",
       "      <td>0</td>\n",
       "    </tr>\n",
       "    <tr>\n",
       "      <th>3</th>\n",
       "      <td>rgb1_gray_IMGT0070.PNG</td>\n",
       "      <td>0</td>\n",
       "      <td>0</td>\n",
       "      <td>0</td>\n",
       "      <td>0</td>\n",
       "    </tr>\n",
       "    <tr>\n",
       "      <th>4</th>\n",
       "      <td>rgb1_gray_IMGT0072.PNG</td>\n",
       "      <td>0</td>\n",
       "      <td>0</td>\n",
       "      <td>0</td>\n",
       "      <td>0</td>\n",
       "    </tr>\n",
       "  </tbody>\n",
       "</table>\n",
       "</div>"
      ],
      "text/plain": [
       "                       Id  Bypass Diode  Junction Box  MHotspot  SHotspot\n",
       "0  rgb1_gray_IMGT0037.PNG             0             0         0         0\n",
       "1  rgb1_gray_IMGT0039.PNG             0             0         0         0\n",
       "2  rgb1_gray_IMGT0068.PNG             0             0         0         0\n",
       "3  rgb1_gray_IMGT0070.PNG             0             0         0         0\n",
       "4  rgb1_gray_IMGT0072.PNG             0             0         0         0"
      ]
     },
     "execution_count": 49,
     "metadata": {},
     "output_type": "execute_result"
    }
   ],
   "source": [
    "dataframe.head()"
   ]
  },
  {
   "cell_type": "code",
   "execution_count": 50,
   "id": "2c3be42c",
   "metadata": {
    "scrolled": false
   },
   "outputs": [],
   "source": [
    "#X_npImageAll = np.array([cv.imread(f\"{PATHPOOL}\\\\{img}\") for img in FILESPOOL]);\n",
    "#X_npImageAll = dataframe['Id']\n",
    "#X_npImageAll\n",
    "i = 0\n",
    "X_npImageAll = list()\n",
    "for f in dataframe.iloc[:,0]:\n",
    "    img = load_img(f\"{PATHPOOL}\\\\{f}\\\\\",target_size=(SIZE,SIZE,3))\n",
    "    img = img_to_array(img)\n",
    "    img = img / 255.0\n",
    "    X_npImageAll.append(img)\n",
    "\n",
    "X_npImageAll = np.array(X_npImageAll)\n",
    "#X_npImageAll\n",
    "    \n",
    "    "
   ]
  },
  {
   "cell_type": "code",
   "execution_count": 51,
   "id": "91545ec8",
   "metadata": {},
   "outputs": [
    {
     "data": {
      "text/plain": [
       "(1004, 200, 200, 3)"
      ]
     },
     "execution_count": 51,
     "metadata": {},
     "output_type": "execute_result"
    }
   ],
   "source": [
    "X_npImageAll.shape"
   ]
  },
  {
   "cell_type": "code",
   "execution_count": 52,
   "id": "8a6df95e",
   "metadata": {
    "scrolled": true
   },
   "outputs": [],
   "source": [
    "y_trainDataframe = dataframe.drop(['Id'], axis=1)"
   ]
  },
  {
   "cell_type": "code",
   "execution_count": 53,
   "id": "1e5ad31a",
   "metadata": {},
   "outputs": [
    {
     "data": {
      "text/html": [
       "<div>\n",
       "<style scoped>\n",
       "    .dataframe tbody tr th:only-of-type {\n",
       "        vertical-align: middle;\n",
       "    }\n",
       "\n",
       "    .dataframe tbody tr th {\n",
       "        vertical-align: top;\n",
       "    }\n",
       "\n",
       "    .dataframe thead th {\n",
       "        text-align: right;\n",
       "    }\n",
       "</style>\n",
       "<table border=\"1\" class=\"dataframe\">\n",
       "  <thead>\n",
       "    <tr style=\"text-align: right;\">\n",
       "      <th></th>\n",
       "      <th>Bypass Diode</th>\n",
       "      <th>Junction Box</th>\n",
       "      <th>MHotspot</th>\n",
       "      <th>SHotspot</th>\n",
       "    </tr>\n",
       "  </thead>\n",
       "  <tbody>\n",
       "    <tr>\n",
       "      <th>0</th>\n",
       "      <td>0</td>\n",
       "      <td>0</td>\n",
       "      <td>0</td>\n",
       "      <td>0</td>\n",
       "    </tr>\n",
       "    <tr>\n",
       "      <th>1</th>\n",
       "      <td>0</td>\n",
       "      <td>0</td>\n",
       "      <td>0</td>\n",
       "      <td>0</td>\n",
       "    </tr>\n",
       "    <tr>\n",
       "      <th>2</th>\n",
       "      <td>0</td>\n",
       "      <td>0</td>\n",
       "      <td>0</td>\n",
       "      <td>0</td>\n",
       "    </tr>\n",
       "    <tr>\n",
       "      <th>3</th>\n",
       "      <td>0</td>\n",
       "      <td>0</td>\n",
       "      <td>0</td>\n",
       "      <td>0</td>\n",
       "    </tr>\n",
       "    <tr>\n",
       "      <th>4</th>\n",
       "      <td>0</td>\n",
       "      <td>0</td>\n",
       "      <td>0</td>\n",
       "      <td>0</td>\n",
       "    </tr>\n",
       "  </tbody>\n",
       "</table>\n",
       "</div>"
      ],
      "text/plain": [
       "   Bypass Diode  Junction Box  MHotspot  SHotspot\n",
       "0             0             0         0         0\n",
       "1             0             0         0         0\n",
       "2             0             0         0         0\n",
       "3             0             0         0         0\n",
       "4             0             0         0         0"
      ]
     },
     "execution_count": 53,
     "metadata": {},
     "output_type": "execute_result"
    }
   ],
   "source": [
    "y_trainDataframe.head()"
   ]
  },
  {
   "cell_type": "code",
   "execution_count": 54,
   "id": "eabc2c64",
   "metadata": {},
   "outputs": [
    {
     "data": {
      "text/plain": [
       "(1004, 4)"
      ]
     },
     "execution_count": 54,
     "metadata": {},
     "output_type": "execute_result"
    }
   ],
   "source": [
    "y_trainDataframe.shape"
   ]
  },
  {
   "cell_type": "code",
   "execution_count": 55,
   "id": "327d0b42",
   "metadata": {
    "scrolled": false
   },
   "outputs": [],
   "source": [
    "X_train,X_test,y_train,y_test = train_test_split(X_npImageAll, y_trainDataframe, random_state=20,test_size=0.3)"
   ]
  },
  {
   "cell_type": "code",
   "execution_count": 56,
   "id": "766ea23e",
   "metadata": {},
   "outputs": [],
   "source": [
    "model = Sequential()\n"
   ]
  },
  {
   "cell_type": "code",
   "execution_count": 57,
   "id": "ad2bcf06",
   "metadata": {},
   "outputs": [],
   "source": [
    "\n",
    "model.add(Conv2D(filters=16, kernel_size=(5, 5), activation=\"relu\", input_shape=(SIZE,SIZE,3)))\n",
    "model.add(BatchNormalization())\n",
    "model.add(MaxPooling2D(pool_size=(2, 2)))\n",
    "model.add(Dropout(0.2))\n",
    "\n",
    "model.add(Conv2D(filters=32, kernel_size=(5, 5), activation='relu'))\n",
    "model.add(MaxPooling2D(pool_size=(2, 2)))\n",
    "model.add(BatchNormalization())\n",
    "model.add(Dropout(0.2))\n",
    "\n",
    "model.add(Conv2D(filters=64, kernel_size=(5, 5), activation=\"relu\"))\n",
    "model.add(MaxPooling2D(pool_size=(2, 2)))\n",
    "model.add(BatchNormalization())\n",
    "model.add(Dropout(0.2))\n",
    "\n",
    "model.add(Conv2D(filters=64, kernel_size=(5, 5), activation='relu'))\n",
    "model.add(MaxPooling2D(pool_size=(2, 2)))\n",
    "model.add(BatchNormalization())\n",
    "model.add(Dropout(0.2))\n",
    "\n",
    "model.add(Flatten())\n",
    "model.add(Dense(2**7, activation='relu'))\n",
    "model.add(Dropout(0.5))\n",
    "model.add(Dense(2**6, activation='relu'))\n",
    "model.add(Dropout(0.5))\n",
    "#model.add(Dense(2**10, activation='relu'))\n",
    "#model.add(Dropout(0.3))\n",
    "\n",
    "#model.add(Dense(2**8, activation='relu'))\n",
    "#model.add(Dropout(0.2))\n",
    "\n",
    "model.add(Dense(2**2, activation='sigmoid'))\n",
    "\n",
    "\n"
   ]
  },
  {
   "cell_type": "code",
   "execution_count": 58,
   "id": "9a78a7b4",
   "metadata": {},
   "outputs": [],
   "source": [
    "#model.summary()"
   ]
  },
  {
   "cell_type": "code",
   "execution_count": 59,
   "id": "a5638173",
   "metadata": {},
   "outputs": [],
   "source": [
    "\n",
    "model.compile(optimizer='adam', loss='binary_crossentropy', metrics=['accuracy'])\n"
   ]
  },
  {
   "cell_type": "code",
   "execution_count": 60,
   "id": "63c73748",
   "metadata": {
    "scrolled": true
   },
   "outputs": [
    {
     "name": "stdout",
     "output_type": "stream",
     "text": [
      "Epoch 1/80\n",
      "71/71 [==============================] - 26s 345ms/step - loss: 0.2171 - accuracy: 0.2393 - val_loss: 2.9803e-05 - val_accuracy: 0.0000e+00\n",
      "Epoch 2/80\n",
      "71/71 [==============================] - 23s 324ms/step - loss: 0.0271 - accuracy: 0.2493 - val_loss: 4.0581e-08 - val_accuracy: 0.0861\n",
      "Epoch 3/80\n",
      "71/71 [==============================] - 21s 299ms/step - loss: 0.0158 - accuracy: 0.2578 - val_loss: 1.3400e-10 - val_accuracy: 0.0000e+00\n",
      "Epoch 4/80\n",
      "71/71 [==============================] - 21s 297ms/step - loss: 0.0073 - accuracy: 0.2564 - val_loss: 6.4026e-11 - val_accuracy: 0.0000e+00\n",
      "Epoch 5/80\n",
      "71/71 [==============================] - 22s 304ms/step - loss: 0.0048 - accuracy: 0.2692 - val_loss: 2.7546e-12 - val_accuracy: 0.2185\n",
      "Epoch 6/80\n",
      "71/71 [==============================] - 23s 319ms/step - loss: 0.0053 - accuracy: 0.2664 - val_loss: 3.1623e-13 - val_accuracy: 0.0364\n",
      "Epoch 7/80\n",
      "71/71 [==============================] - 23s 321ms/step - loss: 0.0030 - accuracy: 0.2977 - val_loss: 5.3845e-12 - val_accuracy: 0.0232\n",
      "Epoch 8/80\n",
      "71/71 [==============================] - 23s 320ms/step - loss: 0.0068 - accuracy: 0.2692 - val_loss: 1.0343e-13 - val_accuracy: 0.0993\n",
      "Epoch 9/80\n",
      "71/71 [==============================] - 22s 315ms/step - loss: 0.0016 - accuracy: 0.2849 - val_loss: 5.2994e-19 - val_accuracy: 0.0199\n",
      "Epoch 10/80\n",
      "71/71 [==============================] - 23s 321ms/step - loss: 0.0031 - accuracy: 0.2877 - val_loss: 2.2253e-09 - val_accuracy: 0.7219\n",
      "Epoch 11/80\n",
      "71/71 [==============================] - 22s 316ms/step - loss: 0.0042 - accuracy: 0.3433 - val_loss: 5.8196e-12 - val_accuracy: 0.5861\n",
      "Epoch 12/80\n",
      "71/71 [==============================] - 22s 317ms/step - loss: 3.7228e-04 - accuracy: 0.3276 - val_loss: 4.1574e-12 - val_accuracy: 0.3311\n",
      "Epoch 13/80\n",
      "71/71 [==============================] - 22s 316ms/step - loss: 0.0024 - accuracy: 0.2692 - val_loss: 1.3738e-10 - val_accuracy: 0.1159\n",
      "Epoch 14/80\n",
      "71/71 [==============================] - 22s 314ms/step - loss: 3.5783e-04 - accuracy: 0.2265 - val_loss: 7.0136e-13 - val_accuracy: 0.0430\n",
      "Epoch 15/80\n",
      "71/71 [==============================] - 23s 322ms/step - loss: 7.1198e-04 - accuracy: 0.2735 - val_loss: 1.8898e-13 - val_accuracy: 0.1424\n",
      "Epoch 16/80\n",
      "71/71 [==============================] - 25s 348ms/step - loss: 0.0028 - accuracy: 0.3063 - val_loss: 5.7946e-14 - val_accuracy: 0.1126\n",
      "Epoch 17/80\n",
      "71/71 [==============================] - 23s 318ms/step - loss: 3.1653e-05 - accuracy: 0.2849 - val_loss: 1.5526e-14 - val_accuracy: 0.1358\n",
      "Epoch 18/80\n",
      "71/71 [==============================] - 23s 322ms/step - loss: 4.5209e-05 - accuracy: 0.3177 - val_loss: 2.1348e-14 - val_accuracy: 0.1722\n",
      "Epoch 19/80\n",
      "71/71 [==============================] - 23s 328ms/step - loss: 2.2843e-04 - accuracy: 0.2764 - val_loss: 4.2450e-16 - val_accuracy: 0.0497\n",
      "Epoch 20/80\n",
      "71/71 [==============================] - 24s 343ms/step - loss: 6.8958e-04 - accuracy: 0.2764 - val_loss: 4.0067e-20 - val_accuracy: 0.0033\n",
      "Epoch 21/80\n",
      "71/71 [==============================] - 23s 331ms/step - loss: 5.1771e-04 - accuracy: 0.1937 - val_loss: 7.0574e-12 - val_accuracy: 0.1159\n",
      "Epoch 22/80\n",
      "71/71 [==============================] - 23s 330ms/step - loss: 8.2887e-05 - accuracy: 0.2365 - val_loss: 3.2718e-12 - val_accuracy: 0.0894\n",
      "Epoch 23/80\n",
      "71/71 [==============================] - 30s 418ms/step - loss: 2.1547e-05 - accuracy: 0.2179 - val_loss: 1.0128e-12 - val_accuracy: 0.0927\n",
      "Epoch 24/80\n",
      "71/71 [==============================] - 29s 413ms/step - loss: 1.4695e-04 - accuracy: 0.2094 - val_loss: 3.6953e-13 - val_accuracy: 0.0795\n",
      "Epoch 25/80\n",
      "71/71 [==============================] - 29s 415ms/step - loss: 7.2339e-06 - accuracy: 0.2593 - val_loss: 1.7739e-13 - val_accuracy: 0.0629\n",
      "Epoch 26/80\n",
      "71/71 [==============================] - 29s 414ms/step - loss: 0.0014 - accuracy: 0.2379 - val_loss: 3.4247e-15 - val_accuracy: 0.1192\n",
      "Epoch 27/80\n",
      "71/71 [==============================] - 29s 413ms/step - loss: 1.5760e-04 - accuracy: 0.2749 - val_loss: 1.1397e-14 - val_accuracy: 0.1126\n",
      "Epoch 28/80\n",
      "71/71 [==============================] - 30s 419ms/step - loss: 5.4566e-04 - accuracy: 0.2934 - val_loss: 7.5417e-15 - val_accuracy: 0.4272\n",
      "Epoch 29/80\n",
      "71/71 [==============================] - 29s 414ms/step - loss: 8.2496e-04 - accuracy: 0.3063 - val_loss: 4.3175e-20 - val_accuracy: 0.4669\n",
      "Epoch 30/80\n",
      "71/71 [==============================] - 29s 413ms/step - loss: 8.7050e-06 - accuracy: 0.3234 - val_loss: 5.4937e-21 - val_accuracy: 0.3907\n",
      "Epoch 31/80\n",
      "71/71 [==============================] - 31s 439ms/step - loss: 2.3438e-08 - accuracy: 0.3618 - val_loss: 3.7356e-21 - val_accuracy: 0.3808\n",
      "Epoch 32/80\n",
      "71/71 [==============================] - 30s 423ms/step - loss: 2.6659e-05 - accuracy: 0.3462 - val_loss: 1.6884e-21 - val_accuracy: 0.3278\n",
      "Epoch 33/80\n",
      "71/71 [==============================] - 30s 417ms/step - loss: 1.8358e-06 - accuracy: 0.3276 - val_loss: 9.5514e-22 - val_accuracy: 0.3113\n",
      "Epoch 34/80\n",
      "71/71 [==============================] - 29s 410ms/step - loss: 4.2644e-04 - accuracy: 0.3533 - val_loss: 1.3990e-20 - val_accuracy: 0.0828\n",
      "Epoch 35/80\n",
      "71/71 [==============================] - 30s 417ms/step - loss: 3.5513e-09 - accuracy: 0.3348 - val_loss: 6.7939e-21 - val_accuracy: 0.0762\n",
      "Epoch 36/80\n",
      "71/71 [==============================] - 30s 423ms/step - loss: 0.0010 - accuracy: 0.2293 - val_loss: 1.2270e-14 - val_accuracy: 0.0861\n",
      "Epoch 37/80\n",
      "71/71 [==============================] - 28s 399ms/step - loss: 2.1405e-06 - accuracy: 0.1952 - val_loss: 4.5629e-16 - val_accuracy: 0.0795\n",
      "Epoch 38/80\n",
      "71/71 [==============================] - 22s 310ms/step - loss: 8.1586e-07 - accuracy: 0.2194 - val_loss: 7.8791e-17 - val_accuracy: 0.0828\n",
      "Epoch 39/80\n",
      "71/71 [==============================] - 22s 311ms/step - loss: 1.6041e-06 - accuracy: 0.1966 - val_loss: 2.6470e-17 - val_accuracy: 0.0662\n",
      "Epoch 40/80\n",
      "71/71 [==============================] - 22s 308ms/step - loss: 1.0374e-05 - accuracy: 0.1937 - val_loss: 1.1758e-17 - val_accuracy: 0.0662\n",
      "Epoch 41/80\n",
      "71/71 [==============================] - 22s 312ms/step - loss: 1.8855e-07 - accuracy: 0.2066 - val_loss: 3.6575e-18 - val_accuracy: 0.0728\n",
      "Epoch 42/80\n",
      "71/71 [==============================] - 23s 320ms/step - loss: 2.5564e-08 - accuracy: 0.1667 - val_loss: 3.1327e-18 - val_accuracy: 0.0728\n",
      "Epoch 43/80\n",
      "71/71 [==============================] - 25s 346ms/step - loss: 5.9814e-07 - accuracy: 0.2194 - val_loss: 3.2472e-18 - val_accuracy: 0.0728\n",
      "Epoch 44/80\n",
      "71/71 [==============================] - 24s 333ms/step - loss: 1.1498e-05 - accuracy: 0.2023 - val_loss: 9.4296e-19 - val_accuracy: 0.0728\n",
      "Epoch 45/80\n",
      "71/71 [==============================] - 22s 313ms/step - loss: 1.1142e-06 - accuracy: 0.1923 - val_loss: 8.6575e-19 - val_accuracy: 0.0728\n",
      "Epoch 46/80\n",
      "71/71 [==============================] - 24s 332ms/step - loss: 3.9935e-04 - accuracy: 0.2479 - val_loss: 5.1670e-19 - val_accuracy: 0.1060\n",
      "Epoch 47/80\n",
      "71/71 [==============================] - 24s 333ms/step - loss: 1.3228e-05 - accuracy: 0.2521 - val_loss: 4.4272e-19 - val_accuracy: 0.1026\n",
      "Epoch 48/80\n",
      "71/71 [==============================] - 24s 345ms/step - loss: 2.7914e-06 - accuracy: 0.2336 - val_loss: 1.3167e-18 - val_accuracy: 0.0828\n",
      "Epoch 49/80\n",
      "71/71 [==============================] - 25s 346ms/step - loss: 3.3119e-06 - accuracy: 0.2009 - val_loss: 1.4144e-18 - val_accuracy: 0.0861\n",
      "Epoch 50/80\n",
      "71/71 [==============================] - 24s 343ms/step - loss: 4.0693e-05 - accuracy: 0.2023 - val_loss: 7.0813e-20 - val_accuracy: 0.0695\n",
      "Epoch 51/80\n",
      "71/71 [==============================] - 25s 351ms/step - loss: 3.7897e-04 - accuracy: 0.2578 - val_loss: 1.3958e-17 - val_accuracy: 0.1258\n",
      "Epoch 52/80\n",
      "71/71 [==============================] - 25s 355ms/step - loss: 2.0622e-05 - accuracy: 0.2792 - val_loss: 6.4785e-18 - val_accuracy: 0.1391\n",
      "Epoch 53/80\n",
      "71/71 [==============================] - 26s 368ms/step - loss: 3.0830e-05 - accuracy: 0.2621 - val_loss: 3.4581e-20 - val_accuracy: 0.1788\n",
      "Epoch 54/80\n",
      "71/71 [==============================] - 24s 335ms/step - loss: 3.7306e-04 - accuracy: 0.2863 - val_loss: 8.6485e-21 - val_accuracy: 0.0993\n",
      "Epoch 55/80\n"
     ]
    },
    {
     "name": "stdout",
     "output_type": "stream",
     "text": [
      "71/71 [==============================] - 24s 334ms/step - loss: 3.1699e-10 - accuracy: 0.2578 - val_loss: 4.4517e-22 - val_accuracy: 0.0695\n",
      "Epoch 56/80\n",
      "71/71 [==============================] - 23s 325ms/step - loss: 2.0603e-08 - accuracy: 0.2821 - val_loss: 2.1622e-22 - val_accuracy: 0.0629\n",
      "Epoch 57/80\n",
      "71/71 [==============================] - 23s 318ms/step - loss: 1.3559e-10 - accuracy: 0.2692 - val_loss: 1.9639e-22 - val_accuracy: 0.0629\n",
      "Epoch 58/80\n",
      "71/71 [==============================] - 23s 329ms/step - loss: 2.1884e-10 - accuracy: 0.2778 - val_loss: 1.7736e-22 - val_accuracy: 0.0596\n",
      "Epoch 59/80\n",
      "71/71 [==============================] - 23s 325ms/step - loss: 4.6313e-11 - accuracy: 0.2692 - val_loss: 1.5056e-22 - val_accuracy: 0.0596\n",
      "Epoch 60/80\n",
      "71/71 [==============================] - 24s 343ms/step - loss: 2.5165e-10 - accuracy: 0.2778 - val_loss: 1.4400e-22 - val_accuracy: 0.0497\n",
      "Epoch 61/80\n",
      "71/71 [==============================] - 25s 345ms/step - loss: 1.3811e-11 - accuracy: 0.2849 - val_loss: 1.4441e-22 - val_accuracy: 0.0497\n",
      "Epoch 62/80\n",
      "71/71 [==============================] - 26s 367ms/step - loss: 6.7234e-07 - accuracy: 0.2564 - val_loss: 1.4331e-22 - val_accuracy: 0.0497\n",
      "Epoch 63/80\n",
      "71/71 [==============================] - 24s 345ms/step - loss: 6.6265e-04 - accuracy: 0.2066 - val_loss: 6.5123e-26 - val_accuracy: 0.0464\n",
      "Epoch 64/80\n",
      "71/71 [==============================] - 24s 338ms/step - loss: 2.7669e-08 - accuracy: 0.1880 - val_loss: 1.1688e-25 - val_accuracy: 0.0430\n",
      "Epoch 65/80\n",
      "71/71 [==============================] - 24s 334ms/step - loss: 1.5703e-12 - accuracy: 0.1795 - val_loss: 5.4197e-25 - val_accuracy: 0.0397\n",
      "Epoch 66/80\n",
      "71/71 [==============================] - 25s 354ms/step - loss: 3.9299e-13 - accuracy: 0.1595 - val_loss: 4.2170e-25 - val_accuracy: 0.0331\n",
      "Epoch 67/80\n",
      "71/71 [==============================] - 23s 328ms/step - loss: 1.2689e-09 - accuracy: 0.1923 - val_loss: 3.4308e-25 - val_accuracy: 0.0331\n",
      "Epoch 68/80\n",
      "71/71 [==============================] - 23s 327ms/step - loss: 1.6387e-12 - accuracy: 0.1980 - val_loss: 2.5013e-25 - val_accuracy: 0.0265\n",
      "Epoch 69/80\n",
      "71/71 [==============================] - 23s 322ms/step - loss: 3.6264e-09 - accuracy: 0.1852 - val_loss: 2.0004e-25 - val_accuracy: 0.0331\n",
      "Epoch 70/80\n",
      "71/71 [==============================] - 23s 329ms/step - loss: 2.5824e-09 - accuracy: 0.2080 - val_loss: 2.0929e-25 - val_accuracy: 0.0364\n",
      "Epoch 71/80\n",
      "71/71 [==============================] - 23s 327ms/step - loss: 4.3067e-14 - accuracy: 0.1738 - val_loss: 1.3642e-25 - val_accuracy: 0.0364\n",
      "Epoch 72/80\n",
      "71/71 [==============================] - 24s 338ms/step - loss: 1.3667e-12 - accuracy: 0.1838 - val_loss: 2.2198e-25 - val_accuracy: 0.0298\n",
      "Epoch 73/80\n",
      "71/71 [==============================] - 25s 359ms/step - loss: 1.8938e-12 - accuracy: 0.1809 - val_loss: 2.4163e-25 - val_accuracy: 0.0331\n",
      "Epoch 74/80\n",
      "71/71 [==============================] - 25s 356ms/step - loss: 1.1970e-12 - accuracy: 0.1966 - val_loss: 4.0063e-25 - val_accuracy: 0.0265\n",
      "Epoch 75/80\n",
      "71/71 [==============================] - 23s 324ms/step - loss: 4.3933e-09 - accuracy: 0.1966 - val_loss: 5.8157e-25 - val_accuracy: 0.0265\n",
      "Epoch 76/80\n",
      "71/71 [==============================] - 24s 332ms/step - loss: 8.0041e-15 - accuracy: 0.1624 - val_loss: 3.7805e-25 - val_accuracy: 0.0265\n",
      "Epoch 77/80\n",
      "71/71 [==============================] - 23s 326ms/step - loss: 2.5797e-12 - accuracy: 0.1823 - val_loss: 3.5951e-25 - val_accuracy: 0.0265\n",
      "Epoch 78/80\n",
      "71/71 [==============================] - 23s 327ms/step - loss: 3.8762e-10 - accuracy: 0.1766 - val_loss: 3.8066e-25 - val_accuracy: 0.0265\n",
      "Epoch 79/80\n",
      "71/71 [==============================] - 23s 325ms/step - loss: 8.5315e-14 - accuracy: 0.1809 - val_loss: 3.8442e-25 - val_accuracy: 0.0265\n",
      "Epoch 80/80\n",
      "71/71 [==============================] - 23s 323ms/step - loss: 1.5483e-11 - accuracy: 0.1966 - val_loss: 1.1595e-25 - val_accuracy: 0.0364\n"
     ]
    }
   ],
   "source": [
    "\n",
    "history = model.fit(X_train, y_train, epochs=80, validation_data=(X_test, y_test), batch_size=10)\n",
    "\n",
    "\n"
   ]
  },
  {
   "cell_type": "code",
   "execution_count": 61,
   "id": "e03d2f25",
   "metadata": {},
   "outputs": [
    {
     "data": {
      "image/png": "[encoded data removed]",
      "text/plain": [
       "<Figure size 640x480 with 1 Axes>"
      ]
     },
     "metadata": {},
     "output_type": "display_data"
    },
    {
     "data": {
      "image/png": "[encoded data removed]",
      "text/plain": [
       "<Figure size 640x480 with 1 Axes>"
      ]
     },
     "metadata": {},
     "output_type": "display_data"
    }
   ],
   "source": [
    "\n",
    "#plot the training and validation accuracy and loss at each epoch\n",
    "loss = history.history['loss']\n",
    "val_loss = history.history['val_loss']\n",
    "epochs = range(1, len(loss) + 1)\n",
    "plt.plot(epochs, loss, 'y', label='Training loss')\n",
    "plt.plot(epochs, val_loss, 'r', label='Validation loss')\n",
    "plt.title('Training and validation loss')\n",
    "plt.xlabel('Epochs')\n",
    "plt.ylabel('Loss')\n",
    "plt.legend()\n",
    "plt.show()\n",
    "\n",
    "\n",
    "acc = history.history['accuracy']\n",
    "val_acc = history.history['val_accuracy']\n",
    "plt.plot(epochs, acc, 'y', label='Training acc')\n",
    "plt.plot(epochs, val_acc, 'r', label='Validation acc')\n",
    "plt.title('Training and validation accuracy')\n",
    "plt.xlabel('Epochs')\n",
    "plt.ylabel('Accuracy')\n",
    "plt.legend()\n",
    "plt.show()\n",
    "\n",
    "#print(\"\")"
   ]
  },
  {
   "cell_type": "code",
   "execution_count": null,
   "id": "d7d0796e",
   "metadata": {},
   "outputs": [],
   "source": []
  }
 ],
 "metadata": {
  "kernelspec": {
   "display_name": "Python 3 (ipykernel)",
   "language": "python",
   "name": "python3"
  },
  "language_info": {
   "codemirror_mode": {
    "name": "ipython",
    "version": 3
   },
   "file_extension": ".py",
   "mimetype": "text/x-python",
   "name": "python",
   "nbconvert_exporter": "python",
   "pygments_lexer": "ipython3",
   "version": "3.10.0"
  }
 },
 "nbformat": 4,
 "nbformat_minor": 5
}
