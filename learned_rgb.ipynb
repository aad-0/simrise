{
 "cells": [
  {
   "cell_type": "code",
   "execution_count": 108,
   "id": "38eea154",
   "metadata": {},
   "outputs": [],
   "source": [
    "import keras\n",
    "from keras.models import Sequential\n",
    "from keras.layers import Dense, Dropout, Flatten\n",
    "from keras.layers import Conv2D, MaxPooling2D\n",
    "#from keras_preprocessing import image\n",
    "#import keras_preprocessing.image\n",
    "from tensorflow.keras.utils import load_img, img_to_array\n",
    "import numpy as np\n",
    "import pandas as pd\n",
    "import matplotlib.pyplot as plt\n",
    "from sklearn.model_selection import train_test_split\n",
    "from keras.layers import BatchNormalization\n",
    "#import cv2 as cv"
   ]
  },
  {
   "cell_type": "code",
   "execution_count": 109,
   "id": "7e493703",
   "metadata": {},
   "outputs": [],
   "source": [
    "import os\n",
    "PATH = \"B:\\\\somestuff\\\\simrise\\\\blalba\\\\new_tool\\\\images\\\\\"\n",
    "PATHPOOL = \"B:\\\\somestuff\\\\simrise\\\\blalba\\\\new_tool\\\\images\\\\pool_rgb\\\\\"\n",
    "FILESPOOL = next(os.walk(PATHPOOL),(None,None,[]))[2]\n",
    "os.chdir(PATH)\n",
    "SIZE = 200"
   ]
  },
  {
   "cell_type": "code",
   "execution_count": 110,
   "id": "3d2937db",
   "metadata": {
    "scrolled": true
   },
   "outputs": [
    {
     "data": {
      "text/html": [
       "<div>\n",
       "<style scoped>\n",
       "    .dataframe tbody tr th:only-of-type {\n",
       "        vertical-align: middle;\n",
       "    }\n",
       "\n",
       "    .dataframe tbody tr th {\n",
       "        vertical-align: top;\n",
       "    }\n",
       "\n",
       "    .dataframe thead th {\n",
       "        text-align: right;\n",
       "    }\n",
       "</style>\n",
       "<table border=\"1\" class=\"dataframe\">\n",
       "  <thead>\n",
       "    <tr style=\"text-align: right;\">\n",
       "      <th></th>\n",
       "      <th>Id</th>\n",
       "      <th>Bypass Diode</th>\n",
       "      <th>Junction Box</th>\n",
       "      <th>MHotspot</th>\n",
       "      <th>SHotspot</th>\n",
       "    </tr>\n",
       "  </thead>\n",
       "  <tbody>\n",
       "    <tr>\n",
       "      <th>0</th>\n",
       "      <td>rgb1_IMGT0037.PNG</td>\n",
       "      <td>0</td>\n",
       "      <td>0</td>\n",
       "      <td>0</td>\n",
       "      <td>1</td>\n",
       "    </tr>\n",
       "    <tr>\n",
       "      <th>1</th>\n",
       "      <td>rgb1_IMGT0039.PNG</td>\n",
       "      <td>0</td>\n",
       "      <td>0</td>\n",
       "      <td>1</td>\n",
       "      <td>0</td>\n",
       "    </tr>\n",
       "    <tr>\n",
       "      <th>2</th>\n",
       "      <td>rgb1_IMGT0068.PNG</td>\n",
       "      <td>0</td>\n",
       "      <td>1</td>\n",
       "      <td>0</td>\n",
       "      <td>0</td>\n",
       "    </tr>\n",
       "    <tr>\n",
       "      <th>3</th>\n",
       "      <td>rgb1_IMGT0070.PNG</td>\n",
       "      <td>0</td>\n",
       "      <td>1</td>\n",
       "      <td>0</td>\n",
       "      <td>0</td>\n",
       "    </tr>\n",
       "    <tr>\n",
       "      <th>4</th>\n",
       "      <td>rgb1_IMGT0072.PNG</td>\n",
       "      <td>0</td>\n",
       "      <td>1</td>\n",
       "      <td>0</td>\n",
       "      <td>0</td>\n",
       "    </tr>\n",
       "  </tbody>\n",
       "</table>\n",
       "</div>"
      ],
      "text/plain": [
       "                  Id  Bypass Diode  Junction Box  MHotspot  SHotspot\n",
       "0  rgb1_IMGT0037.PNG             0             0         0         1\n",
       "1  rgb1_IMGT0039.PNG             0             0         1         0\n",
       "2  rgb1_IMGT0068.PNG             0             1         0         0\n",
       "3  rgb1_IMGT0070.PNG             0             1         0         0\n",
       "4  rgb1_IMGT0072.PNG             0             1         0         0"
      ]
     },
     "execution_count": 110,
     "metadata": {},
     "output_type": "execute_result"
    }
   ],
   "source": [
    "dataframe = pd.read_csv(f\"{PATH}\\\\out_rgb.csv\")\n",
    "#dataframe = dataframe.applymap(str)\n",
    "dataframe.head(5)"
   ]
  },
  {
   "cell_type": "code",
   "execution_count": 111,
   "id": "861328f2",
   "metadata": {},
   "outputs": [
    {
     "data": {
      "text/plain": [
       "(1004, 5)"
      ]
     },
     "execution_count": 111,
     "metadata": {},
     "output_type": "execute_result"
    }
   ],
   "source": [
    "dataframe.shape\n"
   ]
  },
  {
   "cell_type": "code",
   "execution_count": 112,
   "id": "339aa78c",
   "metadata": {},
   "outputs": [
    {
     "data": {
      "text/html": [
       "<div>\n",
       "<style scoped>\n",
       "    .dataframe tbody tr th:only-of-type {\n",
       "        vertical-align: middle;\n",
       "    }\n",
       "\n",
       "    .dataframe tbody tr th {\n",
       "        vertical-align: top;\n",
       "    }\n",
       "\n",
       "    .dataframe thead th {\n",
       "        text-align: right;\n",
       "    }\n",
       "</style>\n",
       "<table border=\"1\" class=\"dataframe\">\n",
       "  <thead>\n",
       "    <tr style=\"text-align: right;\">\n",
       "      <th></th>\n",
       "      <th>Id</th>\n",
       "      <th>Bypass Diode</th>\n",
       "      <th>Junction Box</th>\n",
       "      <th>MHotspot</th>\n",
       "      <th>SHotspot</th>\n",
       "    </tr>\n",
       "  </thead>\n",
       "  <tbody>\n",
       "    <tr>\n",
       "      <th>0</th>\n",
       "      <td>rgb1_IMGT0037.PNG</td>\n",
       "      <td>0</td>\n",
       "      <td>0</td>\n",
       "      <td>0</td>\n",
       "      <td>1</td>\n",
       "    </tr>\n",
       "    <tr>\n",
       "      <th>1</th>\n",
       "      <td>rgb1_IMGT0039.PNG</td>\n",
       "      <td>0</td>\n",
       "      <td>0</td>\n",
       "      <td>1</td>\n",
       "      <td>0</td>\n",
       "    </tr>\n",
       "    <tr>\n",
       "      <th>2</th>\n",
       "      <td>rgb1_IMGT0068.PNG</td>\n",
       "      <td>0</td>\n",
       "      <td>1</td>\n",
       "      <td>0</td>\n",
       "      <td>0</td>\n",
       "    </tr>\n",
       "    <tr>\n",
       "      <th>3</th>\n",
       "      <td>rgb1_IMGT0070.PNG</td>\n",
       "      <td>0</td>\n",
       "      <td>1</td>\n",
       "      <td>0</td>\n",
       "      <td>0</td>\n",
       "    </tr>\n",
       "    <tr>\n",
       "      <th>4</th>\n",
       "      <td>rgb1_IMGT0072.PNG</td>\n",
       "      <td>0</td>\n",
       "      <td>1</td>\n",
       "      <td>0</td>\n",
       "      <td>0</td>\n",
       "    </tr>\n",
       "  </tbody>\n",
       "</table>\n",
       "</div>"
      ],
      "text/plain": [
       "                  Id  Bypass Diode  Junction Box  MHotspot  SHotspot\n",
       "0  rgb1_IMGT0037.PNG             0             0         0         1\n",
       "1  rgb1_IMGT0039.PNG             0             0         1         0\n",
       "2  rgb1_IMGT0068.PNG             0             1         0         0\n",
       "3  rgb1_IMGT0070.PNG             0             1         0         0\n",
       "4  rgb1_IMGT0072.PNG             0             1         0         0"
      ]
     },
     "execution_count": 112,
     "metadata": {},
     "output_type": "execute_result"
    }
   ],
   "source": [
    "dataframe.head()"
   ]
  },
  {
   "cell_type": "code",
   "execution_count": 113,
   "id": "2c3be42c",
   "metadata": {
    "scrolled": true
   },
   "outputs": [],
   "source": [
    "#X_npImageAll = np.array([cv.imread(f\"{PATHPOOL}\\\\{img}\") for img in FILESPOOL]);\n",
    "#X_npImageAll = dataframe['Id']\n",
    "#X_npImageAll\n",
    "i = 0\n",
    "X_npImageAll = list()\n",
    "for f in dataframe.iloc[:,0]:\n",
    "    img = load_img(f\"{PATHPOOL}\\\\{f}\\\\\",target_size=(SIZE,SIZE,3))\n",
    "    img = img_to_array(img)\n",
    "    img = img / 255.0 # normalize\n",
    "    X_npImageAll.append(img)\n",
    "\n",
    "X_npImageAll = np.array(X_npImageAll)\n",
    "#X_npImageAll\n",
    "    \n",
    "    "
   ]
  },
  {
   "cell_type": "code",
   "execution_count": 114,
   "id": "91545ec8",
   "metadata": {},
   "outputs": [
    {
     "data": {
      "text/plain": [
       "(1004, 200, 200, 3)"
      ]
     },
     "execution_count": 114,
     "metadata": {},
     "output_type": "execute_result"
    }
   ],
   "source": [
    "X_npImageAll.shape"
   ]
  },
  {
   "cell_type": "code",
   "execution_count": 115,
   "id": "8a6df95e",
   "metadata": {
    "scrolled": true
   },
   "outputs": [],
   "source": [
    "y_trainDataframe = dataframe.drop(['Id'], axis=1)"
   ]
  },
  {
   "cell_type": "code",
   "execution_count": 116,
   "id": "1e5ad31a",
   "metadata": {},
   "outputs": [
    {
     "data": {
      "text/html": [
       "<div>\n",
       "<style scoped>\n",
       "    .dataframe tbody tr th:only-of-type {\n",
       "        vertical-align: middle;\n",
       "    }\n",
       "\n",
       "    .dataframe tbody tr th {\n",
       "        vertical-align: top;\n",
       "    }\n",
       "\n",
       "    .dataframe thead th {\n",
       "        text-align: right;\n",
       "    }\n",
       "</style>\n",
       "<table border=\"1\" class=\"dataframe\">\n",
       "  <thead>\n",
       "    <tr style=\"text-align: right;\">\n",
       "      <th></th>\n",
       "      <th>Bypass Diode</th>\n",
       "      <th>Junction Box</th>\n",
       "      <th>MHotspot</th>\n",
       "      <th>SHotspot</th>\n",
       "    </tr>\n",
       "  </thead>\n",
       "  <tbody>\n",
       "    <tr>\n",
       "      <th>0</th>\n",
       "      <td>0</td>\n",
       "      <td>0</td>\n",
       "      <td>0</td>\n",
       "      <td>1</td>\n",
       "    </tr>\n",
       "    <tr>\n",
       "      <th>1</th>\n",
       "      <td>0</td>\n",
       "      <td>0</td>\n",
       "      <td>1</td>\n",
       "      <td>0</td>\n",
       "    </tr>\n",
       "    <tr>\n",
       "      <th>2</th>\n",
       "      <td>0</td>\n",
       "      <td>1</td>\n",
       "      <td>0</td>\n",
       "      <td>0</td>\n",
       "    </tr>\n",
       "    <tr>\n",
       "      <th>3</th>\n",
       "      <td>0</td>\n",
       "      <td>1</td>\n",
       "      <td>0</td>\n",
       "      <td>0</td>\n",
       "    </tr>\n",
       "    <tr>\n",
       "      <th>4</th>\n",
       "      <td>0</td>\n",
       "      <td>1</td>\n",
       "      <td>0</td>\n",
       "      <td>0</td>\n",
       "    </tr>\n",
       "  </tbody>\n",
       "</table>\n",
       "</div>"
      ],
      "text/plain": [
       "   Bypass Diode  Junction Box  MHotspot  SHotspot\n",
       "0             0             0         0         1\n",
       "1             0             0         1         0\n",
       "2             0             1         0         0\n",
       "3             0             1         0         0\n",
       "4             0             1         0         0"
      ]
     },
     "execution_count": 116,
     "metadata": {},
     "output_type": "execute_result"
    }
   ],
   "source": [
    "y_trainDataframe.head()"
   ]
  },
  {
   "cell_type": "code",
   "execution_count": 117,
   "id": "eabc2c64",
   "metadata": {},
   "outputs": [
    {
     "data": {
      "text/plain": [
       "(1004, 4)"
      ]
     },
     "execution_count": 117,
     "metadata": {},
     "output_type": "execute_result"
    }
   ],
   "source": [
    "y_trainDataframe.shape"
   ]
  },
  {
   "cell_type": "code",
   "execution_count": 118,
   "id": "327d0b42",
   "metadata": {
    "scrolled": false
   },
   "outputs": [],
   "source": [
    "X_train,X_test,y_train,y_test = train_test_split(X_npImageAll, y_trainDataframe, random_state=20,test_size=0.3)"
   ]
  },
  {
   "cell_type": "code",
   "execution_count": 119,
   "id": "766ea23e",
   "metadata": {},
   "outputs": [],
   "source": [
    "model = Sequential()\n"
   ]
  },
  {
   "cell_type": "code",
   "execution_count": 120,
   "id": "ad2bcf06",
   "metadata": {},
   "outputs": [],
   "source": [
    "\n",
    "model.add(Conv2D(filters=16, kernel_size=(5, 5), activation=\"relu\", input_shape=(SIZE,SIZE,3)))\n",
    "model.add(BatchNormalization())\n",
    "model.add(MaxPooling2D(pool_size=(2, 2)))\n",
    "model.add(Dropout(0.2))\n",
    "\n",
    "model.add(Conv2D(filters=32, kernel_size=(5, 5), activation='relu'))\n",
    "model.add(MaxPooling2D(pool_size=(2, 2)))\n",
    "model.add(BatchNormalization())\n",
    "model.add(Dropout(0.2))\n",
    "\n",
    "model.add(Conv2D(filters=64, kernel_size=(5, 5), activation=\"relu\"))\n",
    "model.add(MaxPooling2D(pool_size=(2, 2)))\n",
    "model.add(BatchNormalization())\n",
    "model.add(Dropout(0.2))\n",
    "\n",
    "model.add(Conv2D(filters=64, kernel_size=(5, 5), activation='relu'))\n",
    "model.add(MaxPooling2D(pool_size=(2, 2)))\n",
    "model.add(BatchNormalization())\n",
    "model.add(Dropout(0.2))\n",
    "\n",
    "model.add(Flatten())\n",
    "model.add(Dense(2**7, activation='relu'))\n",
    "model.add(Dropout(0.5))\n",
    "model.add(Dense(2**6, activation='relu'))\n",
    "model.add(Dropout(0.5))\n",
    "#model.add(Dense(2**10, activation='relu'))\n",
    "#model.add(Dropout(0.3))\n",
    "\n",
    "#model.add(Dense(2**8, activation='relu'))\n",
    "#model.add(Dropout(0.2))\n",
    "\n",
    "model.add(Dense(2**2, activation='sigmoid'))\n",
    "\n",
    "\n",
    "\n"
   ]
  },
  {
   "cell_type": "code",
   "execution_count": 121,
   "id": "9a78a7b4",
   "metadata": {},
   "outputs": [],
   "source": [
    "#model.summary()"
   ]
  },
  {
   "cell_type": "code",
   "execution_count": 122,
   "id": "b68f29db",
   "metadata": {},
   "outputs": [],
   "source": [
    "\n",
    "model.compile(optimizer='adam', loss='binary_crossentropy', metrics=['accuracy'])\n"
   ]
  },
  {
   "cell_type": "code",
   "execution_count": 128,
   "id": "584e24a7",
   "metadata": {
    "scrolled": true
   },
   "outputs": [
    {
     "name": "stdout",
     "output_type": "stream",
     "text": [
      "Epoch 1/80\n",
      "71/71 [==============================] - 24s 335ms/step - loss: 0.4399 - accuracy: 0.6667 - val_loss: 0.6170 - val_accuracy: 0.5298\n",
      "Epoch 2/80\n",
      "71/71 [==============================] - 23s 324ms/step - loss: 0.5011 - accuracy: 0.6197 - val_loss: 0.3995 - val_accuracy: 0.6291\n",
      "Epoch 3/80\n",
      "71/71 [==============================] - 24s 332ms/step - loss: 0.4341 - accuracy: 0.6481 - val_loss: 0.4100 - val_accuracy: 0.6093\n",
      "Epoch 4/80\n",
      "71/71 [==============================] - 23s 323ms/step - loss: 0.4113 - accuracy: 0.6652 - val_loss: 0.3282 - val_accuracy: 0.7318\n",
      "Epoch 5/80\n",
      "71/71 [==============================] - 23s 320ms/step - loss: 0.3949 - accuracy: 0.6738 - val_loss: 0.3263 - val_accuracy: 0.7252\n",
      "Epoch 6/80\n",
      "71/71 [==============================] - 23s 317ms/step - loss: 0.3814 - accuracy: 0.7023 - val_loss: 0.3042 - val_accuracy: 0.6954\n",
      "Epoch 7/80\n",
      "71/71 [==============================] - 23s 318ms/step - loss: 0.3415 - accuracy: 0.7179 - val_loss: 0.3099 - val_accuracy: 0.7384\n",
      "Epoch 8/80\n",
      "71/71 [==============================] - 22s 316ms/step - loss: 0.3081 - accuracy: 0.7479 - val_loss: 0.2913 - val_accuracy: 0.7517\n",
      "Epoch 9/80\n",
      "71/71 [==============================] - 23s 319ms/step - loss: 0.3297 - accuracy: 0.7379 - val_loss: 0.2702 - val_accuracy: 0.7715\n",
      "Epoch 10/80\n",
      "71/71 [==============================] - 23s 321ms/step - loss: 0.3230 - accuracy: 0.7393 - val_loss: 0.2607 - val_accuracy: 0.7881\n",
      "Epoch 11/80\n",
      "71/71 [==============================] - 22s 316ms/step - loss: 0.3020 - accuracy: 0.7507 - val_loss: 0.2570 - val_accuracy: 0.8079\n",
      "Epoch 12/80\n",
      "71/71 [==============================] - 23s 320ms/step - loss: 0.2848 - accuracy: 0.7593 - val_loss: 0.2334 - val_accuracy: 0.7914\n",
      "Epoch 13/80\n",
      "71/71 [==============================] - 23s 320ms/step - loss: 0.2962 - accuracy: 0.7593 - val_loss: 0.2618 - val_accuracy: 0.7649\n",
      "Epoch 14/80\n",
      "71/71 [==============================] - 23s 319ms/step - loss: 0.2795 - accuracy: 0.7934 - val_loss: 0.2364 - val_accuracy: 0.7947\n",
      "Epoch 15/80\n",
      "71/71 [==============================] - 24s 336ms/step - loss: 0.2584 - accuracy: 0.7977 - val_loss: 0.2106 - val_accuracy: 0.8245\n",
      "Epoch 16/80\n",
      "71/71 [==============================] - 24s 341ms/step - loss: 0.2649 - accuracy: 0.7949 - val_loss: 0.2286 - val_accuracy: 0.7914\n",
      "Epoch 17/80\n",
      "71/71 [==============================] - 26s 364ms/step - loss: 0.2682 - accuracy: 0.7949 - val_loss: 0.2262 - val_accuracy: 0.7881\n",
      "Epoch 18/80\n",
      "71/71 [==============================] - 24s 336ms/step - loss: 0.2761 - accuracy: 0.7920 - val_loss: 0.2834 - val_accuracy: 0.7185\n",
      "Epoch 19/80\n",
      "71/71 [==============================] - 24s 340ms/step - loss: 0.2596 - accuracy: 0.7934 - val_loss: 0.2148 - val_accuracy: 0.8179\n",
      "Epoch 20/80\n",
      "71/71 [==============================] - 25s 347ms/step - loss: 0.2555 - accuracy: 0.8020 - val_loss: 0.2140 - val_accuracy: 0.8046\n",
      "Epoch 21/80\n",
      "71/71 [==============================] - 24s 337ms/step - loss: 0.2506 - accuracy: 0.7835 - val_loss: 0.2096 - val_accuracy: 0.8179\n",
      "Epoch 22/80\n",
      "71/71 [==============================] - 25s 353ms/step - loss: 0.2459 - accuracy: 0.8034 - val_loss: 0.2133 - val_accuracy: 0.8046\n",
      "Epoch 23/80\n",
      "71/71 [==============================] - 25s 359ms/step - loss: 0.2160 - accuracy: 0.8276 - val_loss: 0.2074 - val_accuracy: 0.8179\n",
      "Epoch 24/80\n",
      "71/71 [==============================] - 26s 373ms/step - loss: 0.2189 - accuracy: 0.8134 - val_loss: 0.1977 - val_accuracy: 0.8212\n",
      "Epoch 25/80\n",
      "71/71 [==============================] - 29s 415ms/step - loss: 0.2346 - accuracy: 0.7906 - val_loss: 0.2613 - val_accuracy: 0.7715\n",
      "Epoch 26/80\n",
      "71/71 [==============================] - 26s 361ms/step - loss: 0.2163 - accuracy: 0.8248 - val_loss: 0.1832 - val_accuracy: 0.8311\n",
      "Epoch 27/80\n",
      "71/71 [==============================] - 31s 441ms/step - loss: 0.1838 - accuracy: 0.8376 - val_loss: 0.1766 - val_accuracy: 0.8245\n",
      "Epoch 28/80\n",
      "71/71 [==============================] - 27s 375ms/step - loss: 0.2137 - accuracy: 0.8333 - val_loss: 0.1755 - val_accuracy: 0.8444\n",
      "Epoch 29/80\n",
      "71/71 [==============================] - 25s 354ms/step - loss: 0.1885 - accuracy: 0.8305 - val_loss: 0.2062 - val_accuracy: 0.8046\n",
      "Epoch 30/80\n",
      "71/71 [==============================] - 28s 396ms/step - loss: 0.1943 - accuracy: 0.8333 - val_loss: 0.1769 - val_accuracy: 0.8278\n",
      "Epoch 31/80\n",
      "71/71 [==============================] - 31s 443ms/step - loss: 0.1831 - accuracy: 0.8462 - val_loss: 0.2822 - val_accuracy: 0.7715\n",
      "Epoch 32/80\n",
      "71/71 [==============================] - 31s 436ms/step - loss: 0.1904 - accuracy: 0.8276 - val_loss: 0.1632 - val_accuracy: 0.8576\n",
      "Epoch 33/80\n",
      "71/71 [==============================] - 28s 395ms/step - loss: 0.1712 - accuracy: 0.8575 - val_loss: 0.1919 - val_accuracy: 0.8113\n",
      "Epoch 34/80\n",
      "71/71 [==============================] - 28s 400ms/step - loss: 0.1815 - accuracy: 0.8490 - val_loss: 0.1596 - val_accuracy: 0.8311\n",
      "Epoch 35/80\n",
      "71/71 [==============================] - 26s 369ms/step - loss: 0.1584 - accuracy: 0.8533 - val_loss: 0.1576 - val_accuracy: 0.8609\n",
      "Epoch 36/80\n",
      "71/71 [==============================] - 28s 398ms/step - loss: 0.1646 - accuracy: 0.8647 - val_loss: 0.1815 - val_accuracy: 0.8344\n",
      "Epoch 37/80\n",
      "71/71 [==============================] - 31s 438ms/step - loss: 0.1757 - accuracy: 0.8376 - val_loss: 0.1797 - val_accuracy: 0.8344\n",
      "Epoch 38/80\n",
      "71/71 [==============================] - 29s 410ms/step - loss: 0.1609 - accuracy: 0.8860 - val_loss: 0.1712 - val_accuracy: 0.8543\n",
      "Epoch 39/80\n",
      "71/71 [==============================] - 29s 402ms/step - loss: 0.1473 - accuracy: 0.8661 - val_loss: 0.1531 - val_accuracy: 0.8576\n",
      "Epoch 40/80\n",
      "71/71 [==============================] - 28s 401ms/step - loss: 0.1482 - accuracy: 0.8761 - val_loss: 0.1463 - val_accuracy: 0.8642\n",
      "Epoch 41/80\n",
      "71/71 [==============================] - 28s 395ms/step - loss: 0.1604 - accuracy: 0.8561 - val_loss: 0.1484 - val_accuracy: 0.8510\n",
      "Epoch 42/80\n",
      "71/71 [==============================] - 30s 418ms/step - loss: 0.1436 - accuracy: 0.8875 - val_loss: 0.1539 - val_accuracy: 0.8344\n",
      "Epoch 43/80\n",
      "71/71 [==============================] - 28s 398ms/step - loss: 0.1523 - accuracy: 0.8832 - val_loss: 0.1397 - val_accuracy: 0.8642\n",
      "Epoch 44/80\n",
      "71/71 [==============================] - 26s 368ms/step - loss: 0.1818 - accuracy: 0.8504 - val_loss: 0.1427 - val_accuracy: 0.8543\n",
      "Epoch 45/80\n",
      "71/71 [==============================] - 25s 354ms/step - loss: 0.1356 - accuracy: 0.8917 - val_loss: 0.1445 - val_accuracy: 0.8609\n",
      "Epoch 46/80\n",
      "71/71 [==============================] - 26s 364ms/step - loss: 0.1495 - accuracy: 0.8789 - val_loss: 0.1563 - val_accuracy: 0.8675\n",
      "Epoch 47/80\n",
      "71/71 [==============================] - 27s 387ms/step - loss: 0.1415 - accuracy: 0.8761 - val_loss: 0.1730 - val_accuracy: 0.8278\n",
      "Epoch 48/80\n",
      "71/71 [==============================] - 27s 383ms/step - loss: 0.1398 - accuracy: 0.8775 - val_loss: 0.1328 - val_accuracy: 0.8411\n",
      "Epoch 49/80\n",
      "71/71 [==============================] - 25s 353ms/step - loss: 0.1267 - accuracy: 0.8832 - val_loss: 0.1358 - val_accuracy: 0.8675\n",
      "Epoch 50/80\n",
      "71/71 [==============================] - 24s 345ms/step - loss: 0.1229 - accuracy: 0.8775 - val_loss: 0.1726 - val_accuracy: 0.8444\n",
      "Epoch 51/80\n",
      "71/71 [==============================] - 25s 351ms/step - loss: 0.1408 - accuracy: 0.8903 - val_loss: 0.1575 - val_accuracy: 0.8642\n",
      "Epoch 52/80\n",
      "71/71 [==============================] - 25s 351ms/step - loss: 0.1190 - accuracy: 0.8917 - val_loss: 0.1222 - val_accuracy: 0.8841\n",
      "Epoch 53/80\n",
      "71/71 [==============================] - 25s 348ms/step - loss: 0.1101 - accuracy: 0.8832 - val_loss: 0.1273 - val_accuracy: 0.8675\n",
      "Epoch 54/80\n",
      "71/71 [==============================] - 25s 345ms/step - loss: 0.1351 - accuracy: 0.8889 - val_loss: 0.1520 - val_accuracy: 0.8411\n",
      "Epoch 55/80\n",
      "71/71 [==============================] - 25s 351ms/step - loss: 0.1212 - accuracy: 0.9003 - val_loss: 0.1450 - val_accuracy: 0.8808\n",
      "Epoch 56/80\n",
      "71/71 [==============================] - 25s 349ms/step - loss: 0.1145 - accuracy: 0.9117 - val_loss: 0.1615 - val_accuracy: 0.8510\n",
      "Epoch 57/80\n",
      "71/71 [==============================] - 25s 349ms/step - loss: 0.1176 - accuracy: 0.8875 - val_loss: 0.1567 - val_accuracy: 0.8742\n"
     ]
    },
    {
     "name": "stdout",
     "output_type": "stream",
     "text": [
      "Epoch 58/80\n",
      "71/71 [==============================] - 25s 348ms/step - loss: 0.1193 - accuracy: 0.8875 - val_loss: 0.1419 - val_accuracy: 0.8742\n",
      "Epoch 59/80\n",
      "71/71 [==============================] - 25s 355ms/step - loss: 0.1369 - accuracy: 0.8832 - val_loss: 0.1637 - val_accuracy: 0.8245\n",
      "Epoch 60/80\n",
      "71/71 [==============================] - 26s 362ms/step - loss: 0.0935 - accuracy: 0.9003 - val_loss: 0.1451 - val_accuracy: 0.8742\n",
      "Epoch 61/80\n",
      "71/71 [==============================] - 28s 399ms/step - loss: 0.0988 - accuracy: 0.9017 - val_loss: 0.1868 - val_accuracy: 0.8245\n",
      "Epoch 62/80\n",
      "71/71 [==============================] - 25s 356ms/step - loss: 0.0888 - accuracy: 0.9174 - val_loss: 0.1422 - val_accuracy: 0.8675\n",
      "Epoch 63/80\n",
      "71/71 [==============================] - 27s 387ms/step - loss: 0.1125 - accuracy: 0.8989 - val_loss: 0.1467 - val_accuracy: 0.8709\n",
      "Epoch 64/80\n",
      "71/71 [==============================] - 30s 426ms/step - loss: 0.0956 - accuracy: 0.8946 - val_loss: 0.1642 - val_accuracy: 0.8543\n",
      "Epoch 65/80\n",
      "71/71 [==============================] - 30s 427ms/step - loss: 0.0910 - accuracy: 0.9046 - val_loss: 0.2615 - val_accuracy: 0.8079\n",
      "Epoch 66/80\n",
      "71/71 [==============================] - 31s 433ms/step - loss: 0.0861 - accuracy: 0.9117 - val_loss: 0.1766 - val_accuracy: 0.8675\n",
      "Epoch 67/80\n",
      "71/71 [==============================] - 30s 422ms/step - loss: 0.0704 - accuracy: 0.9088 - val_loss: 0.1765 - val_accuracy: 0.8675\n",
      "Epoch 68/80\n",
      "71/71 [==============================] - 30s 422ms/step - loss: 0.1179 - accuracy: 0.8960 - val_loss: 0.1936 - val_accuracy: 0.8510\n",
      "Epoch 69/80\n",
      "71/71 [==============================] - 26s 370ms/step - loss: 0.0966 - accuracy: 0.8946 - val_loss: 0.1877 - val_accuracy: 0.8411\n",
      "Epoch 70/80\n",
      "71/71 [==============================] - 23s 329ms/step - loss: 0.1035 - accuracy: 0.9031 - val_loss: 0.2071 - val_accuracy: 0.8377\n",
      "Epoch 71/80\n",
      "71/71 [==============================] - 23s 329ms/step - loss: 0.0873 - accuracy: 0.9046 - val_loss: 0.2070 - val_accuracy: 0.8576\n",
      "Epoch 72/80\n",
      "71/71 [==============================] - 23s 328ms/step - loss: 0.1002 - accuracy: 0.8903 - val_loss: 0.1771 - val_accuracy: 0.8344\n",
      "Epoch 73/80\n",
      "71/71 [==============================] - 23s 319ms/step - loss: 0.0956 - accuracy: 0.8846 - val_loss: 0.1671 - val_accuracy: 0.8543\n",
      "Epoch 74/80\n",
      "71/71 [==============================] - 23s 323ms/step - loss: 0.0728 - accuracy: 0.9074 - val_loss: 0.1595 - val_accuracy: 0.8742\n",
      "Epoch 75/80\n",
      "71/71 [==============================] - 23s 318ms/step - loss: 0.0857 - accuracy: 0.9060 - val_loss: 0.1613 - val_accuracy: 0.8742\n",
      "Epoch 76/80\n",
      "71/71 [==============================] - 23s 325ms/step - loss: 0.0758 - accuracy: 0.9145 - val_loss: 0.1710 - val_accuracy: 0.8510\n",
      "Epoch 77/80\n",
      "71/71 [==============================] - 23s 324ms/step - loss: 0.0815 - accuracy: 0.9060 - val_loss: 0.2491 - val_accuracy: 0.8444\n",
      "Epoch 78/80\n",
      "71/71 [==============================] - 22s 316ms/step - loss: 0.0901 - accuracy: 0.8946 - val_loss: 0.1695 - val_accuracy: 0.8675\n",
      "Epoch 79/80\n",
      "71/71 [==============================] - 23s 329ms/step - loss: 0.0876 - accuracy: 0.9174 - val_loss: 0.1934 - val_accuracy: 0.8642\n",
      "Epoch 80/80\n",
      "71/71 [==============================] - 23s 330ms/step - loss: 0.0772 - accuracy: 0.9217 - val_loss: 0.1752 - val_accuracy: 0.8543\n"
     ]
    }
   ],
   "source": [
    "\n",
    "history = model.fit(X_train, y_train, epochs=80, validation_data=(X_test, y_test), batch_size=10)\n",
    "\n"
   ]
  },
  {
   "cell_type": "code",
   "execution_count": 129,
   "id": "e03d2f25",
   "metadata": {
    "scrolled": false
   },
   "outputs": [
    {
     "data": {
      "image/png": "[encoded data removed]",
      "text/plain": [
       "<Figure size 640x480 with 1 Axes>"
      ]
     },
     "metadata": {},
     "output_type": "display_data"
    },
    {
     "data": {
      "image/png": "[encoded data removed]",
      "text/plain": [
       "<Figure size 640x480 with 1 Axes>"
      ]
     },
     "metadata": {},
     "output_type": "display_data"
    }
   ],
   "source": [
    "\n",
    "#plot the training and validation accuracy and loss at each epoch\n",
    "loss = history.history['loss']\n",
    "val_loss = history.history['val_loss']\n",
    "epochs = range(1, len(loss) + 1)\n",
    "plt.plot(epochs, loss, 'y', label='Training loss')\n",
    "plt.plot(epochs, val_loss, 'r', label='Validation loss')\n",
    "plt.title('Training and validation loss')\n",
    "plt.xlabel('Epochs')\n",
    "plt.ylabel('Loss')\n",
    "plt.legend()\n",
    "plt.show()\n",
    "\n",
    "\n",
    "acc = history.history['accuracy']\n",
    "val_acc = history.history['val_accuracy']\n",
    "plt.plot(epochs, acc, 'y', label='Training acc')\n",
    "plt.plot(epochs, val_acc, 'r', label='Validation acc')\n",
    "plt.title('Training and validation accuracy')\n",
    "plt.xlabel('Epochs')\n",
    "plt.ylabel('Accuracy')\n",
    "plt.legend()\n",
    "plt.show()\n",
    "\n",
    "#print(\"\")"
   ]
  },
  {
   "cell_type": "code",
   "execution_count": 21,
   "id": "703d4ba9",
   "metadata": {},
   "outputs": [
    {
     "data": {
      "text/plain": [
       "dict_keys(['loss', 'accuracy', 'val_loss', 'val_accuracy'])"
      ]
     },
     "execution_count": 21,
     "metadata": {},
     "output_type": "execute_result"
    }
   ],
   "source": [
    "history.history.keys()"
   ]
  },
  {
   "cell_type": "code",
   "execution_count": null,
   "id": "58bc18b0",
   "metadata": {},
   "outputs": [],
   "source": []
  }
 ],
 "metadata": {
  "kernelspec": {
   "display_name": "Python 3 (ipykernel)",
   "language": "python",
   "name": "python3"
  },
  "language_info": {
   "codemirror_mode": {
    "name": "ipython",
    "version": 3
   },
   "file_extension": ".py",
   "mimetype": "text/x-python",
   "name": "python",
   "nbconvert_exporter": "python",
   "pygments_lexer": "ipython3",
   "version": "3.10.0"
  }
 },
 "nbformat": 4,
 "nbformat_minor": 5
}
