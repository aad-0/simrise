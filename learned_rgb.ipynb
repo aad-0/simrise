{
 "cells": [
  {
   "cell_type": "code",
   "execution_count": 1,
   "id": "38eea154",
   "metadata": {},
   "outputs": [],
   "source": [
    "import keras\n",
    "from keras.models import Sequential\n",
    "from keras.layers import Dense, Dropout, Flatten\n",
    "from keras.layers import Conv2D, MaxPooling2D\n",
    "#from keras_preprocessing import image\n",
    "#import keras_preprocessing.image\n",
    "from tensorflow.keras.utils import load_img, img_to_array\n",
    "import numpy as np\n",
    "import pandas as pd\n",
    "import matplotlib.pyplot as plt\n",
    "from sklearn.model_selection import train_test_split\n",
    "from keras.layers import BatchNormalization\n",
    "#import cv2 as cv"
   ]
  },
  {
   "cell_type": "code",
   "execution_count": 2,
   "id": "7e493703",
   "metadata": {},
   "outputs": [],
   "source": [
    "import os\n",
    "PATH = \"B:\\\\somestuff\\\\simrise\\\\blalba\\\\new_tool\\\\images\\\\\"\n",
    "PATHPOOL = \"B:\\\\somestuff\\\\simrise\\\\blalba\\\\new_tool\\\\images\\\\pool_rgb\\\\\"\n",
    "FILESPOOL = next(os.walk(PATHPOOL),(None,None,[]))[2]\n",
    "os.chdir(PATH)\n",
    "SIZE = 200"
   ]
  },
  {
   "cell_type": "code",
   "execution_count": 3,
   "id": "3d2937db",
   "metadata": {
    "scrolled": true
   },
   "outputs": [
    {
     "data": {
      "text/html": [
       "<div>\n",
       "<style scoped>\n",
       "    .dataframe tbody tr th:only-of-type {\n",
       "        vertical-align: middle;\n",
       "    }\n",
       "\n",
       "    .dataframe tbody tr th {\n",
       "        vertical-align: top;\n",
       "    }\n",
       "\n",
       "    .dataframe thead th {\n",
       "        text-align: right;\n",
       "    }\n",
       "</style>\n",
       "<table border=\"1\" class=\"dataframe\">\n",
       "  <thead>\n",
       "    <tr style=\"text-align: right;\">\n",
       "      <th></th>\n",
       "      <th>Id</th>\n",
       "      <th>Bypass Diode</th>\n",
       "      <th>Junction Box</th>\n",
       "      <th>MHotspot</th>\n",
       "      <th>SHotspot</th>\n",
       "    </tr>\n",
       "  </thead>\n",
       "  <tbody>\n",
       "    <tr>\n",
       "      <th>0</th>\n",
       "      <td>rgb_IMGT0037.PNG</td>\n",
       "      <td>0</td>\n",
       "      <td>0</td>\n",
       "      <td>0</td>\n",
       "      <td>1</td>\n",
       "    </tr>\n",
       "    <tr>\n",
       "      <th>1</th>\n",
       "      <td>rgb_IMGT0039.PNG</td>\n",
       "      <td>0</td>\n",
       "      <td>0</td>\n",
       "      <td>1</td>\n",
       "      <td>0</td>\n",
       "    </tr>\n",
       "    <tr>\n",
       "      <th>2</th>\n",
       "      <td>rgb_IMGT0068.PNG</td>\n",
       "      <td>0</td>\n",
       "      <td>1</td>\n",
       "      <td>0</td>\n",
       "      <td>0</td>\n",
       "    </tr>\n",
       "    <tr>\n",
       "      <th>3</th>\n",
       "      <td>rgb_IMGT0070.PNG</td>\n",
       "      <td>0</td>\n",
       "      <td>1</td>\n",
       "      <td>0</td>\n",
       "      <td>0</td>\n",
       "    </tr>\n",
       "    <tr>\n",
       "      <th>4</th>\n",
       "      <td>rgb_IMGT0072.PNG</td>\n",
       "      <td>0</td>\n",
       "      <td>1</td>\n",
       "      <td>0</td>\n",
       "      <td>0</td>\n",
       "    </tr>\n",
       "  </tbody>\n",
       "</table>\n",
       "</div>"
      ],
      "text/plain": [
       "                 Id  Bypass Diode  Junction Box  MHotspot  SHotspot\n",
       "0  rgb_IMGT0037.PNG             0             0         0         1\n",
       "1  rgb_IMGT0039.PNG             0             0         1         0\n",
       "2  rgb_IMGT0068.PNG             0             1         0         0\n",
       "3  rgb_IMGT0070.PNG             0             1         0         0\n",
       "4  rgb_IMGT0072.PNG             0             1         0         0"
      ]
     },
     "execution_count": 3,
     "metadata": {},
     "output_type": "execute_result"
    }
   ],
   "source": [
    "dataframe = pd.read_csv(f\"{PATH}\\\\out_rgb.csv\")\n",
    "#dataframe = dataframe.applymap(str)\n",
    "dataframe.head(5)"
   ]
  },
  {
   "cell_type": "code",
   "execution_count": 4,
   "id": "861328f2",
   "metadata": {},
   "outputs": [
    {
     "data": {
      "text/plain": [
       "(502, 5)"
      ]
     },
     "execution_count": 4,
     "metadata": {},
     "output_type": "execute_result"
    }
   ],
   "source": [
    "dataframe.shape\n"
   ]
  },
  {
   "cell_type": "code",
   "execution_count": 5,
   "id": "339aa78c",
   "metadata": {},
   "outputs": [
    {
     "data": {
      "text/html": [
       "<div>\n",
       "<style scoped>\n",
       "    .dataframe tbody tr th:only-of-type {\n",
       "        vertical-align: middle;\n",
       "    }\n",
       "\n",
       "    .dataframe tbody tr th {\n",
       "        vertical-align: top;\n",
       "    }\n",
       "\n",
       "    .dataframe thead th {\n",
       "        text-align: right;\n",
       "    }\n",
       "</style>\n",
       "<table border=\"1\" class=\"dataframe\">\n",
       "  <thead>\n",
       "    <tr style=\"text-align: right;\">\n",
       "      <th></th>\n",
       "      <th>Id</th>\n",
       "      <th>Bypass Diode</th>\n",
       "      <th>Junction Box</th>\n",
       "      <th>MHotspot</th>\n",
       "      <th>SHotspot</th>\n",
       "    </tr>\n",
       "  </thead>\n",
       "  <tbody>\n",
       "    <tr>\n",
       "      <th>0</th>\n",
       "      <td>rgb_IMGT0037.PNG</td>\n",
       "      <td>0</td>\n",
       "      <td>0</td>\n",
       "      <td>0</td>\n",
       "      <td>1</td>\n",
       "    </tr>\n",
       "    <tr>\n",
       "      <th>1</th>\n",
       "      <td>rgb_IMGT0039.PNG</td>\n",
       "      <td>0</td>\n",
       "      <td>0</td>\n",
       "      <td>1</td>\n",
       "      <td>0</td>\n",
       "    </tr>\n",
       "    <tr>\n",
       "      <th>2</th>\n",
       "      <td>rgb_IMGT0068.PNG</td>\n",
       "      <td>0</td>\n",
       "      <td>1</td>\n",
       "      <td>0</td>\n",
       "      <td>0</td>\n",
       "    </tr>\n",
       "    <tr>\n",
       "      <th>3</th>\n",
       "      <td>rgb_IMGT0070.PNG</td>\n",
       "      <td>0</td>\n",
       "      <td>1</td>\n",
       "      <td>0</td>\n",
       "      <td>0</td>\n",
       "    </tr>\n",
       "    <tr>\n",
       "      <th>4</th>\n",
       "      <td>rgb_IMGT0072.PNG</td>\n",
       "      <td>0</td>\n",
       "      <td>1</td>\n",
       "      <td>0</td>\n",
       "      <td>0</td>\n",
       "    </tr>\n",
       "  </tbody>\n",
       "</table>\n",
       "</div>"
      ],
      "text/plain": [
       "                 Id  Bypass Diode  Junction Box  MHotspot  SHotspot\n",
       "0  rgb_IMGT0037.PNG             0             0         0         1\n",
       "1  rgb_IMGT0039.PNG             0             0         1         0\n",
       "2  rgb_IMGT0068.PNG             0             1         0         0\n",
       "3  rgb_IMGT0070.PNG             0             1         0         0\n",
       "4  rgb_IMGT0072.PNG             0             1         0         0"
      ]
     },
     "execution_count": 5,
     "metadata": {},
     "output_type": "execute_result"
    }
   ],
   "source": [
    "dataframe.head()"
   ]
  },
  {
   "cell_type": "code",
   "execution_count": 6,
   "id": "2c3be42c",
   "metadata": {
    "scrolled": false
   },
   "outputs": [],
   "source": [
    "#X_npImageAll = np.array([cv.imread(f\"{PATHPOOL}\\\\{img}\") for img in FILESPOOL]);\n",
    "#X_npImageAll = dataframe['Id']\n",
    "#X_npImageAll\n",
    "i = 0\n",
    "X_npImageAll = list()\n",
    "for f in dataframe.iloc[:,0]:\n",
    "    img = load_img(f\"{PATHPOOL}\\\\{f}\\\\\",target_size=(SIZE,SIZE,3))\n",
    "    img = img_to_array(img)\n",
    "    img = img / 255.0 # normalize\n",
    "    X_npImageAll.append(img)\n",
    "\n",
    "X_npImageAll = np.array(X_npImageAll)\n",
    "#X_npImageAll\n",
    "    \n",
    "    "
   ]
  },
  {
   "cell_type": "code",
   "execution_count": 7,
   "id": "91545ec8",
   "metadata": {},
   "outputs": [
    {
     "data": {
      "text/plain": [
       "(502, 200, 200, 3)"
      ]
     },
     "execution_count": 7,
     "metadata": {},
     "output_type": "execute_result"
    }
   ],
   "source": [
    "X_npImageAll.shape"
   ]
  },
  {
   "cell_type": "code",
   "execution_count": 8,
   "id": "8a6df95e",
   "metadata": {
    "scrolled": true
   },
   "outputs": [],
   "source": [
    "y_trainDataframe = dataframe.drop(['Id'], axis=1)"
   ]
  },
  {
   "cell_type": "code",
   "execution_count": 9,
   "id": "1e5ad31a",
   "metadata": {},
   "outputs": [
    {
     "data": {
      "text/html": [
       "<div>\n",
       "<style scoped>\n",
       "    .dataframe tbody tr th:only-of-type {\n",
       "        vertical-align: middle;\n",
       "    }\n",
       "\n",
       "    .dataframe tbody tr th {\n",
       "        vertical-align: top;\n",
       "    }\n",
       "\n",
       "    .dataframe thead th {\n",
       "        text-align: right;\n",
       "    }\n",
       "</style>\n",
       "<table border=\"1\" class=\"dataframe\">\n",
       "  <thead>\n",
       "    <tr style=\"text-align: right;\">\n",
       "      <th></th>\n",
       "      <th>Bypass Diode</th>\n",
       "      <th>Junction Box</th>\n",
       "      <th>MHotspot</th>\n",
       "      <th>SHotspot</th>\n",
       "    </tr>\n",
       "  </thead>\n",
       "  <tbody>\n",
       "    <tr>\n",
       "      <th>0</th>\n",
       "      <td>0</td>\n",
       "      <td>0</td>\n",
       "      <td>0</td>\n",
       "      <td>1</td>\n",
       "    </tr>\n",
       "    <tr>\n",
       "      <th>1</th>\n",
       "      <td>0</td>\n",
       "      <td>0</td>\n",
       "      <td>1</td>\n",
       "      <td>0</td>\n",
       "    </tr>\n",
       "    <tr>\n",
       "      <th>2</th>\n",
       "      <td>0</td>\n",
       "      <td>1</td>\n",
       "      <td>0</td>\n",
       "      <td>0</td>\n",
       "    </tr>\n",
       "    <tr>\n",
       "      <th>3</th>\n",
       "      <td>0</td>\n",
       "      <td>1</td>\n",
       "      <td>0</td>\n",
       "      <td>0</td>\n",
       "    </tr>\n",
       "    <tr>\n",
       "      <th>4</th>\n",
       "      <td>0</td>\n",
       "      <td>1</td>\n",
       "      <td>0</td>\n",
       "      <td>0</td>\n",
       "    </tr>\n",
       "  </tbody>\n",
       "</table>\n",
       "</div>"
      ],
      "text/plain": [
       "   Bypass Diode  Junction Box  MHotspot  SHotspot\n",
       "0             0             0         0         1\n",
       "1             0             0         1         0\n",
       "2             0             1         0         0\n",
       "3             0             1         0         0\n",
       "4             0             1         0         0"
      ]
     },
     "execution_count": 9,
     "metadata": {},
     "output_type": "execute_result"
    }
   ],
   "source": [
    "y_trainDataframe.head()"
   ]
  },
  {
   "cell_type": "code",
   "execution_count": 10,
   "id": "eabc2c64",
   "metadata": {},
   "outputs": [
    {
     "data": {
      "text/plain": [
       "(502, 4)"
      ]
     },
     "execution_count": 10,
     "metadata": {},
     "output_type": "execute_result"
    }
   ],
   "source": [
    "y_trainDataframe.shape"
   ]
  },
  {
   "cell_type": "code",
   "execution_count": 11,
   "id": "327d0b42",
   "metadata": {
    "scrolled": false
   },
   "outputs": [],
   "source": [
    "X_train,X_test,y_train,y_test = train_test_split(X_npImageAll, y_trainDataframe, random_state=20,test_size=0.3)"
   ]
  },
  {
   "cell_type": "code",
   "execution_count": 12,
   "id": "766ea23e",
   "metadata": {},
   "outputs": [],
   "source": [
    "model = Sequential()\n"
   ]
  },
  {
   "cell_type": "code",
   "execution_count": 13,
   "id": "ad2bcf06",
   "metadata": {},
   "outputs": [],
   "source": [
    "\n",
    "model.add(Conv2D(filters=16, kernel_size=(5, 5), activation=\"relu\", input_shape=(SIZE,SIZE,3)))\n",
    "model.add(BatchNormalization())\n",
    "model.add(MaxPooling2D(pool_size=(2, 2)))\n",
    "model.add(Dropout(0.2))\n",
    "\n",
    "model.add(Conv2D(filters=32, kernel_size=(5, 5), activation='relu'))\n",
    "model.add(MaxPooling2D(pool_size=(2, 2)))\n",
    "model.add(BatchNormalization())\n",
    "model.add(Dropout(0.2))\n",
    "\n",
    "model.add(Conv2D(filters=64, kernel_size=(5, 5), activation=\"relu\"))\n",
    "model.add(MaxPooling2D(pool_size=(2, 2)))\n",
    "model.add(BatchNormalization())\n",
    "model.add(Dropout(0.2))\n",
    "\n",
    "model.add(Conv2D(filters=64, kernel_size=(5, 5), activation='relu'))\n",
    "model.add(MaxPooling2D(pool_size=(2, 2)))\n",
    "model.add(BatchNormalization())\n",
    "model.add(Dropout(0.2))\n",
    "\n",
    "model.add(Flatten())\n",
    "model.add(Dense(2**8, activation='relu'))\n",
    "model.add(Dropout(0.5))\n",
    "model.add(Dense(2**7, activation='relu'))\n",
    "model.add(Dropout(0.5))\n",
    "model.add(Dense(2**2, activation='sigmoid'))\n",
    "\n",
    "\n"
   ]
  },
  {
   "cell_type": "code",
   "execution_count": 14,
   "id": "9a78a7b4",
   "metadata": {},
   "outputs": [],
   "source": [
    "#model.summary()"
   ]
  },
  {
   "cell_type": "code",
   "execution_count": 15,
   "id": "b68f29db",
   "metadata": {},
   "outputs": [],
   "source": [
    "\n",
    "model.compile(optimizer='adam', loss='binary_crossentropy', metrics=['accuracy'])\n"
   ]
  },
  {
   "cell_type": "code",
   "execution_count": null,
   "id": "584e24a7",
   "metadata": {
    "scrolled": false
   },
   "outputs": [
    {
     "name": "stdout",
     "output_type": "stream",
     "text": [
      "Epoch 1/150\n",
      "6/6 [==============================] - 9s 2s/step - loss: 0.0351 - accuracy: 0.9402 - val_loss: 0.9353 - val_accuracy: 0.5497\n",
      "Epoch 2/150\n",
      "6/6 [==============================] - 9s 1s/step - loss: 0.0262 - accuracy: 0.9373 - val_loss: 0.9750 - val_accuracy: 0.6623\n",
      "Epoch 3/150\n",
      "6/6 [==============================] - 9s 2s/step - loss: 0.0198 - accuracy: 0.9630 - val_loss: 0.9932 - val_accuracy: 0.6887\n",
      "Epoch 4/150\n",
      "6/6 [==============================] - 10s 2s/step - loss: 0.0312 - accuracy: 0.9459 - val_loss: 0.9712 - val_accuracy: 0.6093\n",
      "Epoch 5/150\n",
      "6/6 [==============================] - 10s 2s/step - loss: 0.0170 - accuracy: 0.9487 - val_loss: 1.0279 - val_accuracy: 0.5232\n",
      "Epoch 6/150\n",
      "6/6 [==============================] - 9s 1s/step - loss: 0.0247 - accuracy: 0.9459 - val_loss: 0.9547 - val_accuracy: 0.5629\n",
      "Epoch 7/150\n",
      "6/6 [==============================] - 9s 2s/step - loss: 0.0202 - accuracy: 0.9459 - val_loss: 0.9025 - val_accuracy: 0.6093\n",
      "Epoch 8/150\n",
      "6/6 [==============================] - 9s 2s/step - loss: 0.0173 - accuracy: 0.9259 - val_loss: 0.9099 - val_accuracy: 0.6424\n",
      "Epoch 9/150\n",
      "6/6 [==============================] - 9s 2s/step - loss: 0.0194 - accuracy: 0.9601 - val_loss: 0.9390 - val_accuracy: 0.6424\n",
      "Epoch 10/150\n",
      "6/6 [==============================] - 9s 1s/step - loss: 0.0212 - accuracy: 0.9117 - val_loss: 1.0799 - val_accuracy: 0.6623\n",
      "Epoch 11/150\n",
      "6/6 [==============================] - 10s 2s/step - loss: 0.0298 - accuracy: 0.9316 - val_loss: 1.2602 - val_accuracy: 0.6689\n",
      "Epoch 12/150\n",
      "6/6 [==============================] - 10s 2s/step - loss: 0.0413 - accuracy: 0.9459 - val_loss: 1.1031 - val_accuracy: 0.6755\n",
      "Epoch 13/150\n",
      "6/6 [==============================] - 11s 2s/step - loss: 0.0116 - accuracy: 0.9630 - val_loss: 1.0089 - val_accuracy: 0.6821\n",
      "Epoch 14/150\n",
      "6/6 [==============================] - 10s 2s/step - loss: 0.0226 - accuracy: 0.9516 - val_loss: 0.9917 - val_accuracy: 0.6689\n",
      "Epoch 15/150\n",
      "6/6 [==============================] - 10s 2s/step - loss: 0.0143 - accuracy: 0.9544 - val_loss: 1.0180 - val_accuracy: 0.6821\n",
      "Epoch 16/150\n",
      "6/6 [==============================] - 10s 2s/step - loss: 0.0178 - accuracy: 0.9573 - val_loss: 1.0292 - val_accuracy: 0.6821\n",
      "Epoch 17/150\n",
      "6/6 [==============================] - 9s 1s/step - loss: 0.0169 - accuracy: 0.9544 - val_loss: 1.0027 - val_accuracy: 0.6954\n",
      "Epoch 18/150\n",
      "6/6 [==============================] - 9s 1s/step - loss: 0.0113 - accuracy: 0.9573 - val_loss: 0.9520 - val_accuracy: 0.7152\n",
      "Epoch 19/150\n",
      "6/6 [==============================] - 9s 1s/step - loss: 0.0150 - accuracy: 0.9459 - val_loss: 0.9699 - val_accuracy: 0.7086\n",
      "Epoch 20/150\n",
      "6/6 [==============================] - 9s 1s/step - loss: 0.0160 - accuracy: 0.9430 - val_loss: 0.9950 - val_accuracy: 0.7020\n",
      "Epoch 21/150\n",
      "2/6 [=========>....................] - ETA: 5s - loss: 0.0704 - accuracy: 0.9219"
     ]
    }
   ],
   "source": [
    "\n",
    "history = model.fit(X_train, y_train, epochs=150, validation_data=(X_test, y_test), batch_size=64)\n",
    "\n"
   ]
  },
  {
   "cell_type": "code",
   "execution_count": 17,
   "id": "e03d2f25",
   "metadata": {},
   "outputs": [
    {
     "name": "stdout",
     "output_type": "stream",
     "text": [
      "\n"
     ]
    }
   ],
   "source": [
    "\"\"\"\n",
    "#plot the training and validation accuracy and loss at each epoch\n",
    "loss = history.history['loss']\n",
    "val_loss = history.history['val_loss']\n",
    "epochs = range(1, len(loss) + 1)\n",
    "plt.plot(epochs, loss, 'y', label='Training loss')\n",
    "plt.plot(epochs, val_loss, 'r', label='Validation loss')\n",
    "plt.title('Training and validation loss')\n",
    "plt.xlabel('Epochs')\n",
    "plt.ylabel('Loss')\n",
    "plt.legend()\n",
    "plt.show()\n",
    "\n",
    "\n",
    "acc = history.history['acc']\n",
    "val_acc = history.history['val_acc']\n",
    "plt.plot(epochs, acc, 'y', label='Training acc')\n",
    "plt.plot(epochs, val_acc, 'r', label='Validation acc')\n",
    "plt.title('Training and validation accuracy')\n",
    "plt.xlabel('Epochs')\n",
    "plt.ylabel('Accuracy')\n",
    "plt.legend()\n",
    "plt.show()\n",
    "\"\"\"\n",
    "print(\"\")"
   ]
  },
  {
   "cell_type": "code",
   "execution_count": null,
   "id": "d7d0796e",
   "metadata": {},
   "outputs": [],
   "source": []
  },
  {
   "cell_type": "code",
   "execution_count": null,
   "id": "985b50e3",
   "metadata": {},
   "outputs": [],
   "source": []
  },
  {
   "cell_type": "code",
   "execution_count": null,
   "id": "7d98ceb4",
   "metadata": {},
   "outputs": [],
   "source": []
  }
 ],
 "metadata": {
  "kernelspec": {
   "display_name": "Python 3 (ipykernel)",
   "language": "python",
   "name": "python3"
  },
  "language_info": {
   "codemirror_mode": {
    "name": "ipython",
    "version": 3
   },
   "file_extension": ".py",
   "mimetype": "text/x-python",
   "name": "python",
   "nbconvert_exporter": "python",
   "pygments_lexer": "ipython3",
   "version": "3.10.0"
  }
 },
 "nbformat": 4,
 "nbformat_minor": 5
}
